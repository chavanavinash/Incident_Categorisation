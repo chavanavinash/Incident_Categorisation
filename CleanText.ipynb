{
 "cells": [
  {
   "cell_type": "code",
   "execution_count": 5,
   "metadata": {},
   "outputs": [],
   "source": [
    "import re \n",
    "import string \n",
    "import nltk \n",
    "#nltk.download('stopwords')\n",
    "from nltk.corpus import stopwords\n",
    "#from stop_words import get_stop_words\n",
    "\n",
    "# scripts for stopwords removal\n",
    "\n",
    "en_stopwords = set(stopwords.words('english'))\n",
    "\n",
    "en_stopwords = list(en_stopwords)\n",
    "\n",
    "## creating the list for all the assignment groups \n",
    "\n",
    "with open('/home/Notebook_Scripts/ML_model/AG_list.txt') as f:\n",
    "    content = f.readlines()\n",
    "\n",
    "content = [x.strip() for x in content]\n",
    "content = [x.lower() for x in content]\n",
    "\n",
    "## creating list of all the stopwords for the TSI policy removal\n",
    "\n",
    "with open('/home/Notebook_Scripts/ML_model/SGA Policy.txt') as f:\n",
    "    policy_content = f.readlines()\n",
    "    \n",
    "policy_content = [x.strip() for x in policy_content] \n",
    "polcy_contetnt = [x.lower() for x in policy_content]\n",
    "\n",
    "## creating the list of all the custom stopwords for the removal from the text\n",
    "\n",
    "custom_stopwords = ['SHELL - Shell Deutschland Oil', 'SHELL- Shell TS intern RUN', 'Shell Deutschland Oil GmbH', 'T-SYSTEMS INTERNATIONAL GMBH',\n",
    "                  'MANAGED ASSETS SHELL', 'SHELL BRASIL LTDA', 'SHELL', 'Deutschland', 'International', 'DCPOML', 'ts', 'intern', 'run']\n",
    "\n",
    "custom_stopwords = [words.lower() for words in custom_stopwords]\n",
    "\n",
    "## list all the oml server based custom stopwords for the removal from the input data\n",
    "\n",
    "omlserver_stopwords = ['omldepmuc01', 'omldepmuc02', 'omlmyppej01', 'omlmyppej02', 'omldepbfe01', 'omldepbfe02', 'omldepfra31', 'omldepfra32', 'omldepfra35', 'omldepfra36', 'omldepfra47',\n",
    "'omldepfra48', 'omldepfra01', 'omldepfra02', 'omldepmag01', 'omldepmag02', 'omlbrpsao01', 'omlbrpsao02', 'omlgbplon01', 'omlgbplon02', 'omlsgpsin01', 'omlsgpsin02', 'omldepfra43', \n",
    "'omldepfra44', 'omlnlpams01', 'omlnlpams02', 'omlusphou01', 'omlusphou02', 'omldepmuc01', 'DCPOML20402851', 'DCPOML20405251', 'DCPOML20201182', 'DCPOML20215866', 'dcpoml20913481', \n",
    "'dcpoml20945573', 'DCPOML21024238', 'DCPOML21024310', 'dcpoml21188445', 'dcpoml21188454', 'dcpoml21125063', 'dcpoml21125069', 'omlchpzlk01', 'omlchpzlt01', 'omldepfra39', 'omldepfra40',\n",
    "'omldepmuc09', 'omldepmuc10', 'dcpoml21776450', 'dcpoml21776435', 'dcpoml21597588', 'omldepfra51', 'dcpoml22564572', 'dcpoml22564568', 'dcpoml21264313', 'dcpoml21264319', 'omldepfra52',\n",
    "'omldepmag11', 'omldepmag12', 'dcpoml224238', 'omluspho1', 'omlsgpsi1', 'omlnlpam1', 'omlmyppe1', 'omlgbplo1', 'omldepmu2', 'omldepmu1', 'omlbrpsa1', 'dcpoml913481', 'dcpoml2851']\n",
    "\n",
    "stopwords = [word.lower() for word in omlserver_stopwords]\n",
    "\n",
    "add_stopwords = custom_stopwords + stopwords + en_stopwords + content + policy_content"
   ]
  },
  {
   "cell_type": "code",
   "execution_count": 4,
   "metadata": {},
   "outputs": [],
   "source": [
    "## create a variable to store the list of all the punctuation\n",
    "\n",
    "en_punc = set(string.punctuation)\n",
    "en_punc = list(en_punc)"
   ]
  },
  {
   "cell_type": "code",
   "execution_count": 7,
   "metadata": {},
   "outputs": [],
   "source": [
    "def cleanse(word):\n",
    "    rx = re.compile('\\D*\\d')\n",
    "    if rx.match(word):\n",
    "        return ' '\n",
    "    return word"
   ]
  },
  {
   "cell_type": "code",
   "execution_count": 8,
   "metadata": {},
   "outputs": [],
   "source": [
    "def cleanText(text):\n",
    "    text = text.lower()\n",
    "    text = ' '.join([word for word in text.split() if word not in add_stopwords])\n",
    "    text = ' '.join([word for word in text.split() if word not in en_punc])\n",
    "    return text"
   ]
  },
  {
   "cell_type": "code",
   "execution_count": null,
   "metadata": {},
   "outputs": [],
   "source": []
  }
 ],
 "metadata": {
  "kernelspec": {
   "display_name": "Python 3",
   "language": "python",
   "name": "python3"
  },
  "language_info": {
   "codemirror_mode": {
    "name": "ipython",
    "version": 3
   },
   "file_extension": ".py",
   "mimetype": "text/x-python",
   "name": "python",
   "nbconvert_exporter": "python",
   "pygments_lexer": "ipython3",
   "version": "3.7.2"
  }
 },
 "nbformat": 4,
 "nbformat_minor": 2
}
