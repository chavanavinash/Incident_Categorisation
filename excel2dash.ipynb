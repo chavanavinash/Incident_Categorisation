{
 "cells": [
  {
   "cell_type": "code",
   "execution_count": null,
   "metadata": {},
   "outputs": [],
   "source": [
    "import pandas as pd\n",
    "#import pyodbc\n",
    "import urllib\n",
    "from sqlalchemy import create_engine\n",
    "from datetime import datetime, timedelta\n",
    "import os.path\n",
    "import os\n",
    "import shutil\n",
    "\n",
    "def store(df):\n",
    "    current_time = datetime.now().strftime('%Y-%m-%d')\n",
    "    df = pd.read_excel(filename)\n",
    "    date = str(datetime.now())\n",
    "    server = urllib.parse.quote_plus(r'Driver={/opt/microsoft/msodbcsql17/lib64/libmsodbcsql-17.0.so.1.1};SERVER=10.197.194.138,1433;DATABASE=AnalyticsDB;UID=sa;PWD=Admin@123')\n",
    "    engine = create_engine('mssql+pyodbc:///?odbc_connect={}'.format(server))\n",
    "    print(date + \": Connection established\")\n",
    "    df.rename(columns={'error_category':'errors'}, inplace=True)\n",
    "    df['OpenDate'] = df['OpenTime'].dt.strftime('%Y-%m-%d')\n",
    "    df.rename(columns={'Sub_category':'error_category'}, inplace=True)\n",
    "    df = df[['IncidentID','OpenDate','error_category']]\n",
    "    df.to_sql('Incident_Dashboard', schema='dbo', con = engine, if_exists='append', index=False)\n",
    "    print(\"Data inserted to the DB\",df.shape)\n",
    "    shutil.move(\"/home/Dailydata/Hans_\"+current_time+\"data.xlsx\", \"/home/avchavan/Dailydata/Hans_\"+current_time+\"data.xlsx\")\n",
    "#    os.remove(\"/home/Dailydata/\"+current_date+\".xlsx\")\n",
    "    return engine"
   ]
  },
  {
   "cell_type": "code",
   "execution_count": null,
   "metadata": {},
   "outputs": [],
   "source": [
    "if __name__ == '__main__':\n",
    "    current_date = datetime.now().strftime('%Y-%m-%d')\n",
    "    if os.path.isfile(\"/home/Notebook_Scripts/ML_MODEL_2020/Output/Hans_\"+current_date+\"_data.xlsx\"):\n",
    "        filename = (r\"/home/Notebook_Scripts/ML_MODEL_2020/Output/Hans_\"+current_date+\"_data.xlsx\")\n",
    "        df = pd.read_excel(filename)\n",
    "        store(df)\n",
    "    else:\n",
    "        print (\"File does not exist\")       "
   ]
  }
 ],
 "metadata": {
  "kernelspec": {
   "display_name": "Python 3",
   "language": "python",
   "name": "python3"
  },
  "language_info": {
   "codemirror_mode": {
    "name": "ipython",
    "version": 3
   },
   "file_extension": ".py",
   "mimetype": "text/x-python",
   "name": "python",
   "nbconvert_exporter": "python",
   "pygments_lexer": "ipython3",
   "version": "3.7.2"
  }
 },
 "nbformat": 4,
 "nbformat_minor": 2
}
